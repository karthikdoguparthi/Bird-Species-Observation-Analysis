{
  "nbformat": 4,
  "nbformat_minor": 0,
  "metadata": {
    "colab": {
      "private_outputs": true,
      "provenance": [],
      "collapsed_sections": [
        "vncDsAP0Gaoa",
        "FJNUwmbgGyua",
        "w6K7xa23Elo4",
        "yQaldy8SH6Dl",
        "PH-0ReGfmX4f",
        "mDgbUHAGgjLW",
        "O_i_v8NEhb9l",
        "HhfV-JJviCcP",
        "Y3lxredqlCYt",
        "3RnN4peoiCZX",
        "x71ZqKXriCWQ",
        "7hBIi_osiCS2",
        "JlHwYmJAmNHm",
        "35m5QtbWiB9F",
        "PoPl-ycgm1ru",
        "H0kj-8xxnORC",
        "nA9Y7ga8ng1Z",
        "PBTbrJXOngz2",
        "u3PMJOP6ngxN",
        "dauF4eBmngu3",
        "bKJF3rekwFvQ",
        "MSa1f5Uengrz",
        "GF8Ens_Soomf",
        "0wOQAZs5pc--",
        "K5QZ13OEpz2H",
        "lQ7QKXXCp7Bj",
        "448CDAPjqfQr",
        "KSlN3yHqYklG",
        "t6dVpIINYklI",
        "ijmpgYnKYklI",
        "-JiQyfWJYklI",
        "EM7whBJCYoAo",
        "fge-S5ZAYoAp",
        "85gYPyotYoAp",
        "RoGjAbkUYoAp",
        "4Of9eVA-YrdM",
        "iky9q4vBYrdO",
        "F6T5p64dYrdO",
        "y-Ehk30pYrdP",
        "bamQiAODYuh1",
        "QHF8YVU7Yuh3",
        "GwzvFGzlYuh3",
        "qYpmQ266Yuh3",
        "OH-pJp9IphqM",
        "bbFf2-_FphqN",
        "_ouA3fa0phqN",
        "Seke61FWphqN",
        "PIIx-8_IphqN",
        "t27r6nlMphqO",
        "r2jJGEOYphqO",
        "b0JNsNcRphqO",
        "BZR9WyysphqO",
        "jj7wYXLtphqO",
        "eZrbJ2SmphqO",
        "rFu4xreNphqO",
        "YJ55k-q6phqO",
        "gCFgpxoyphqP",
        "OVtJsKN_phqQ",
        "lssrdh5qphqQ",
        "U2RJ9gkRphqQ",
        "1M8mcRywphqQ",
        "tgIPom80phqQ",
        "JMzcOPDDphqR",
        "x-EpHcCOp1ci",
        "X_VqEhTip1ck",
        "8zGJKyg5p1ck",
        "PVzmfK_Ep1ck",
        "n3dbpmDWp1ck",
        "ylSl6qgtp1ck",
        "ZWILFDl5p1ck",
        "M7G43BXep1ck",
        "Ag9LCva-p1cl",
        "E6MkPsBcp1cl",
        "2cELzS2fp1cl",
        "3MPXvC8up1cl",
        "NC_X3p0fY2L0",
        "UV0SzAkaZNRQ",
        "YPEH6qLeZNRQ",
        "q29F0dvdveiT",
        "EXh0U9oCveiU",
        "22aHeOlLveiV",
        "JcMwzZxoAimU",
        "8G2x9gOozGDZ",
        "gCX9965dhzqZ",
        "gIfDvo9L0UH2"
      ],
      "include_colab_link": true
    },
    "kernelspec": {
      "name": "python3",
      "display_name": "Python 3"
    },
    "language_info": {
      "name": "python"
    }
  },
  "cells": [
    {
      "cell_type": "markdown",
      "metadata": {
        "id": "view-in-github",
        "colab_type": "text"
      },
      "source": [
        "<a href=\"https://colab.research.google.com/github/karthikdoguparthi/Bird-Species-Observation-Analysis/blob/main/Bird_Species_Observation_Analysis.ipynb\" target=\"_parent\"><img src=\"https://colab.research.google.com/assets/colab-badge.svg\" alt=\"Open In Colab\"/></a>"
      ]
    },
    {
      "cell_type": "markdown",
      "source": [
        "# **Project Name**    - Bird Species Observation Analysis\n",
        "\n"
      ],
      "metadata": {
        "id": "vncDsAP0Gaoa"
      }
    },
    {
      "cell_type": "markdown",
      "source": [
        "##### **Project Type**    - EDA\n",
        "##### **Contribution**    - Individual\n",
        "##### **Team Member 1 -** Karthik Doguparthi"
      ],
      "metadata": {
        "id": "beRrZCGUAJYm"
      }
    },
    {
      "cell_type": "markdown",
      "source": [
        "# **Project Summary -**"
      ],
      "metadata": {
        "id": "FJNUwmbgGyua"
      }
    },
    {
      "cell_type": "markdown",
      "source": [
        "In this project, I analyzed bird observation data collected from two ecosystems forests and grasslands. My goal was to understand how observer behavior, environmental conditions, and identification methods affect bird detection patterns, and ultimately use those insights to improve monitoring strategies and support biodiversity management.\n",
        "\n",
        "I explored the relationship between observers and interval lengths. I noticed that most bird detections occurred within the first 2.5 minutes of the observation period, regardless of the habitat. Observers like Elizabeth Oswald and Kimberly Semo consistently recorded higher counts during these short intervals, especially in grasslands. That led me to think that shorter observation windows might be more effective.\n",
        "\n",
        "Next, I looked at how birds were identified by calling, singing, or visualization and compared this across observers and habitats. Singing was by far the most dominant method of detection, particularly in grasslands. Observers in grasslands recorded hundreds more detections through singing than through any other method. This made me realize that acoustic detection (like bird songs) plays a bigger role in open habitats.\n",
        "\n",
        "These insights gave me ideas that might benefit from focusing on sound detection and shorter intervals, while forest surveys may require more strategic planning to overcome visibility issues. I also noticed differences in performance among observers, which highlighted the importance of consistent training and calibration across teams.\n",
        "\n",
        "I believe these findings can help optimize monitoring efforts and saving time, improving accuracy, and making better use of limited resources. The real value here for anyone involved in conservation or biodiversity research. I did not find any patterns that would lead to negative outcomes.\n"
      ],
      "metadata": {
        "id": "F6v_1wHtG2nS"
      }
    },
    {
      "cell_type": "markdown",
      "source": [
        "# **GitHub Link -**"
      ],
      "metadata": {
        "id": "w6K7xa23Elo4"
      }
    },
    {
      "cell_type": "markdown",
      "source": [
        "https://github.com/karthikdoguparthi/Bird-Species-Observation-Analysis.git"
      ],
      "metadata": {
        "id": "h1o69JH3Eqqn"
      }
    },
    {
      "cell_type": "markdown",
      "source": [
        "# **Problem Statement**\n"
      ],
      "metadata": {
        "id": "yQaldy8SH6Dl"
      }
    },
    {
      "cell_type": "markdown",
      "source": [
        "The project aims to analyze the distribution and diversity of bird species in two distinct ecosystems: forests and grasslands. By examining bird species observations across these habitats, the goal is to understand how environmental factors, such as vegetation type, climate, and terrain, influence bird populations and their behavior. The study will involve working on the provided observational data of bird species present in both ecosystems, identifying patterns of habitat preference, and assessing the impact of these habitats on bird diversity. The findings can provide valuable insights into habitat conservation, biodiversity management, and the effects of environmental changes on avian communities."
      ],
      "metadata": {
        "id": "DpeJGUA3kjGy"
      }
    },
    {
      "cell_type": "markdown",
      "source": [
        "#### **Define Your Business Objective?**"
      ],
      "metadata": {
        "id": "PH-0ReGfmX4f"
      }
    },
    {
      "cell_type": "markdown",
      "source": [
        "To derive actionable insights into bird biodiversity and habitat preferences by analyzing observational data from forest and grassland ecosystems. The objective is to quantify how environmental factors such as temperature, humidity, sky conditions, and disturbance affect bird diversity, population distribution, and behavior. These insights will give strategies for habitat conservation, biodiversity monitoring, and environmental policy, supporting sustainable ecosystem management and targeted intervention in ecologically sensitive areas."
      ],
      "metadata": {
        "id": "PhDvGCAqmjP1"
      }
    },
    {
      "cell_type": "markdown",
      "source": [
        "# **General Guidelines** : -  "
      ],
      "metadata": {
        "id": "mDgbUHAGgjLW"
      }
    },
    {
      "cell_type": "markdown",
      "source": [
        "1.   Well-structured, formatted, and commented code is required.\n",
        "2.   Exception Handling, Production Grade Code & Deployment Ready Code will be a plus. Those students will be awarded some additional credits.\n",
        "     \n",
        "     The additional credits will have advantages over other students during Star Student selection.\n",
        "       \n",
        "             [ Note: - Deployment Ready Code is defined as, the whole .ipynb notebook should be executable in one go\n",
        "                       without a single error logged. ]\n",
        "\n",
        "3.   Each and every logic should have proper comments.\n",
        "4. You may add as many number of charts you want. Make Sure for each and every chart the following format should be answered.\n",
        "        \n",
        "\n",
        "```\n",
        "# Chart visualization code\n",
        "```\n",
        "            \n",
        "\n",
        "*   Why did you pick the specific chart?\n",
        "*   What is/are the insight(s) found from the chart?\n",
        "* Will the gained insights help creating a positive business impact?\n",
        "Are there any insights that lead to negative growth? Justify with specific reason.\n",
        "\n",
        "5. You have to create at least 20 logical & meaningful charts having important insights.\n",
        "\n",
        "\n",
        "[ Hints : - Do the Vizualization in  a structured way while following \"UBM\" Rule.\n",
        "\n",
        "U - Univariate Analysis,\n",
        "\n",
        "B - Bivariate Analysis (Numerical - Categorical, Numerical - Numerical, Categorical - Categorical)\n",
        "\n",
        "M - Multivariate Analysis\n",
        " ]\n",
        "\n",
        "\n",
        "\n"
      ],
      "metadata": {
        "id": "ZrxVaUj-hHfC"
      }
    },
    {
      "cell_type": "markdown",
      "source": [
        "# ***Let's Begin !***"
      ],
      "metadata": {
        "id": "O_i_v8NEhb9l"
      }
    },
    {
      "cell_type": "markdown",
      "source": [
        "## ***1. Know Your Data***"
      ],
      "metadata": {
        "id": "HhfV-JJviCcP"
      }
    },
    {
      "cell_type": "markdown",
      "source": [
        "### Import Libraries"
      ],
      "metadata": {
        "id": "Y3lxredqlCYt"
      }
    },
    {
      "cell_type": "code",
      "source": [
        "# Import Libraries\n",
        "import pandas as pd\n",
        "import numpy as np\n",
        "import matplotlib.pyplot as plt\n",
        "import seaborn as sns\n",
        "import warnings\n",
        "warnings.filterwarnings('ignore')"
      ],
      "metadata": {
        "id": "M8Vqi-pPk-HR"
      },
      "execution_count": null,
      "outputs": []
    },
    {
      "cell_type": "markdown",
      "source": [
        "### Dataset Loading"
      ],
      "metadata": {
        "id": "3RnN4peoiCZX"
      }
    },
    {
      "cell_type": "code",
      "source": [
        "# Load Dataset\n",
        "\n",
        "forest_df = pd.read_excel('/content/Bird_Monitoring_Data_FOREST.XLSX')\n",
        "grassland_df = pd.read_excel('/content/Bird_Monitoring_Data_GRASSLAND.XLSX')"
      ],
      "metadata": {
        "id": "4CkvbW_SlZ_R"
      },
      "execution_count": null,
      "outputs": []
    },
    {
      "cell_type": "code",
      "source": [
        "# Adding a new column to distinguish between two datasets\n",
        "\n",
        "forest_df['Habitat'] = 'Forest'\n",
        "grassland_df['Habitat'] = 'Grassland'"
      ],
      "metadata": {
        "id": "DQpeAgmX18xy"
      },
      "execution_count": null,
      "outputs": []
    },
    {
      "cell_type": "code",
      "source": [
        "# combine two datasets using concat\n",
        "\n",
        "combined_df = pd.concat([forest_df, grassland_df], axis=0)"
      ],
      "metadata": {
        "id": "fe7OOhwP26rx"
      },
      "execution_count": null,
      "outputs": []
    },
    {
      "cell_type": "markdown",
      "source": [
        "### Dataset First View"
      ],
      "metadata": {
        "id": "x71ZqKXriCWQ"
      }
    },
    {
      "cell_type": "code",
      "source": [
        "# Dataset First Look\n",
        "combined_df.head()"
      ],
      "metadata": {
        "id": "LWNFOSvLl09H",
        "collapsed": true
      },
      "execution_count": null,
      "outputs": []
    },
    {
      "cell_type": "markdown",
      "source": [
        "### Dataset Rows & Columns count"
      ],
      "metadata": {
        "id": "7hBIi_osiCS2"
      }
    },
    {
      "cell_type": "code",
      "source": [
        "# Dataset Rows & Columns count\n",
        "combined_df.shape"
      ],
      "metadata": {
        "id": "Kllu7SJgmLij"
      },
      "execution_count": null,
      "outputs": []
    },
    {
      "cell_type": "markdown",
      "source": [
        "### Dataset Information"
      ],
      "metadata": {
        "id": "JlHwYmJAmNHm"
      }
    },
    {
      "cell_type": "code",
      "source": [
        "# Dataset Info\n",
        "combined_df.info()"
      ],
      "metadata": {
        "id": "e9hRXRi6meOf",
        "collapsed": true
      },
      "execution_count": null,
      "outputs": []
    },
    {
      "cell_type": "markdown",
      "source": [
        "#### Duplicate Values"
      ],
      "metadata": {
        "id": "35m5QtbWiB9F"
      }
    },
    {
      "cell_type": "code",
      "source": [
        "# Dataset Duplicate Value Count\n",
        "combined_df.duplicated().sum()"
      ],
      "metadata": {
        "id": "1sLdpKYkmox0"
      },
      "execution_count": null,
      "outputs": []
    },
    {
      "cell_type": "markdown",
      "source": [
        "#### Missing Values/Null Values"
      ],
      "metadata": {
        "id": "PoPl-ycgm1ru"
      }
    },
    {
      "cell_type": "code",
      "source": [
        "# Missing Values/Null Values Count\n",
        "combined_df.isnull().sum()"
      ],
      "metadata": {
        "id": "GgHWkxvamxVg"
      },
      "execution_count": null,
      "outputs": []
    },
    {
      "cell_type": "code",
      "source": [
        "# Visualizing the missing values\n",
        "combined_df[combined_df.isnull().any(axis=1)]"
      ],
      "metadata": {
        "id": "3q5wnI3om9sJ"
      },
      "execution_count": null,
      "outputs": []
    },
    {
      "cell_type": "code",
      "source": [
        "#delete duplicate rows\n",
        "combined_df.drop_duplicates(inplace=True)"
      ],
      "metadata": {
        "id": "yWQXyVqA9qPr"
      },
      "execution_count": null,
      "outputs": []
    },
    {
      "cell_type": "code",
      "source": [
        "combined_df.shape"
      ],
      "metadata": {
        "id": "Uq0G5cR89vku"
      },
      "execution_count": null,
      "outputs": []
    },
    {
      "cell_type": "markdown",
      "source": [
        "### What did you know about your dataset?"
      ],
      "metadata": {
        "id": "H0kj-8xxnORC"
      }
    },
    {
      "cell_type": "markdown",
      "source": [
        "The combined dataset contains 3921 bird observation records across forest and grassland habitats, with 32 columns capturing details like species information, observation data, environmental conditions, and habitat type. Most columns are complete, including key fields such as Plot_Name, Location_Type, Date, Observer, Interval_Length, Common_Name, Temperature, and Habitat, which are ideal for EDA and data visualization. A few columns have missing values Sub_Unit_Code is entirely null, while Site_Name and NPSTaxonCode are mostly missing and likely not useful. Fields like Sex, Distance, TaxonCode, and Previously_Obs have moderate missingness and should be examined further before analysis. The dataset includes categorical, numeric, boolean, and datetime types, giving it a rich structure for univariate, bivariate, and multivariate analysis."
      ],
      "metadata": {
        "id": "gfoNAAC-nUe_"
      }
    },
    {
      "cell_type": "markdown",
      "source": [
        "## ***2. Understanding Your Variables***"
      ],
      "metadata": {
        "id": "nA9Y7ga8ng1Z"
      }
    },
    {
      "cell_type": "code",
      "source": [
        "# Dataset Columns\n",
        "combined_df.columns"
      ],
      "metadata": {
        "id": "j7xfkqrt5Ag5"
      },
      "execution_count": null,
      "outputs": []
    },
    {
      "cell_type": "code",
      "source": [
        "# Dataset Describe\n",
        "combined_df.describe().transpose()"
      ],
      "metadata": {
        "id": "DnOaZdaE5Q5t"
      },
      "execution_count": null,
      "outputs": []
    },
    {
      "cell_type": "markdown",
      "source": [
        "### Variables Description"
      ],
      "metadata": {
        "id": "PBTbrJXOngz2"
      }
    },
    {
      "cell_type": "markdown",
      "source": [
        "Location Information:\n",
        "  \n",
        "**Admin_Unit_Code:** Code for larger administrative region; fully populated.\n",
        "\n",
        "**Sub_Unit_Code:** Sub-region code; fully missing.\n",
        "  \n",
        "**Site_Name:** Descriptive name of site; mostly missing.\n",
        "\n",
        "**Plot_Name:** Unique ID for plot within a site; complete and useful.\n",
        "\n",
        "**Location_Type:** Type of landscape or location; categorical, clean.\n",
        "\n",
        "Temporal Information\n",
        "\n",
        "**Year:** All data from 2018.\n",
        "\n",
        "**Date:** Actual observation date; clean and in datetime format.\n",
        "\n",
        "**Start_Time / End_Time:** Observation window; stored as object.\n",
        "\n",
        "**Visit:** Numeric count of visit rounds (1–3).\n",
        "\n",
        "Observer and Methodology\n",
        "\n",
        "**Observer:** Person collecting data.\n",
        "\n",
        "**Interval_Length:** Survey duration category.\n",
        "\n",
        "**ID_Method:** Method used for identifying birds (e.g., visual, auditory).\n",
        "\n",
        "**Distance:** Distance from observer.\n",
        "\n",
        "Bird Observation Details\n",
        "\n",
        "**Flyover_Observed:** Boolean indicating whether flyovers were included.\n",
        "\n",
        "**Sex:** Sex of bird (Male/Female).\n",
        "\n",
        "**Common_Name / Scientific_Name:** Species identifiers.\n",
        "\n",
        "**AcceptedTSN:** Taxonomic Serial Number.\n",
        "\n",
        "**NPSTaxonCode:** National Park Service taxon code.\n",
        "\n",
        "Conservation Info\n",
        "\n",
        "**AOU_Code:** The American Ornithological Union code for the species.\n",
        "\n",
        "**PIF_Watchlist_Status:** Indicates whether the species is on the Partners in Flight Watchlist (e.g., \"TRUE\" for at-risk species)\n",
        "\n",
        "**Regional_Stewardship_Status:** Denotes the conservation priority within the region (TRUE/FALSE).\n",
        "\n",
        "Environmental Conditions\n",
        "\n",
        "**Temperature:** The temperature recorded at the time of observation (in degrees).\n",
        "\n",
        "**Humidity:** The humidity percentage recorded at the time of observation.\n",
        "\n",
        "**Sky:** The sky condition during the observation (e.g., \"Cloudy/Overcast\")\n",
        "\n",
        "**Wind:** The wind condition (e.g., \"Calm (< 1 mph) smoke rises vertically\").\n",
        "\n",
        "**Disturbance:** Notes any disturbances that could affect the observation (e.g., \"No effect on count\").\n",
        "\n",
        "\n",
        "Observation Flags\n",
        "\n",
        "**Initial_Three_Min_Cnt:** The count of the species observed in the first three minutes of the session.\n",
        "\n",
        "**Previously_Obs:** Whether species was observed before in the same plot.\n",
        "\n",
        "Target for Grouping\n",
        "\n",
        "**Habitat:** Forest or Grassland.\n",
        "\n",
        "**TaxonCode:** Another species code."
      ],
      "metadata": {
        "id": "aJV4KIxSnxay"
      }
    },
    {
      "cell_type": "markdown",
      "source": [
        "### Check Unique Values for each variable."
      ],
      "metadata": {
        "id": "u3PMJOP6ngxN"
      }
    },
    {
      "cell_type": "code",
      "source": [
        "# Check Unique Values for each variable.\n",
        "combined_df.nunique()"
      ],
      "metadata": {
        "id": "zms12Yq5n-jE"
      },
      "execution_count": null,
      "outputs": []
    },
    {
      "cell_type": "markdown",
      "source": [
        "## 3. ***Data Wrangling***"
      ],
      "metadata": {
        "id": "dauF4eBmngu3"
      }
    },
    {
      "cell_type": "markdown",
      "source": [
        "### Data Wrangling Code"
      ],
      "metadata": {
        "id": "bKJF3rekwFvQ"
      }
    },
    {
      "cell_type": "code",
      "source": [
        "# Write your code to make your dataset analysis ready.\n",
        "\n",
        "# Round Humidity column values to 2 decimal points\n",
        "combined_df['Humidity'] = combined_df['Humidity'].round(2)\n",
        "\n",
        "# Round Temperature column values to 2 decimal points\n",
        "combined_df['Temperature'] = combined_df['Temperature'].round(2)\n",
        "\n",
        "#replacing empty values from Site_Name to Admin_Unit_Code\n",
        "combined_df['Site_Name'] = combined_df['Site_Name'].combine_first(combined_df['Admin_Unit_Code'])\n",
        "\n",
        "#replacing empty values from Sub_Unit_Code to Admin_Unit_Code\n",
        "combined_df['Sub_Unit_Code'] = combined_df['Sub_Unit_Code'].replace('NA', np.nan).fillna(0)\n",
        "\n",
        "#replace all blanks from Sex column to Undetermined\n",
        "combined_df['Sex'] = combined_df['Sex'].replace('', np.nan).fillna('Undetermined')\n",
        "\n",
        "#replacing blanks in distance column with mode of the column\n",
        "combined_df['Distance'] = combined_df['Distance'].replace('', np.nan).fillna(combined_df['Distance'].mode()[0])\n",
        "\n",
        "#replacing blanks in AcceptedTSN with 0\n",
        "combined_df['AcceptedTSN'] = combined_df['AcceptedTSN'].replace('NaN', np.nan).fillna(0)\n",
        "\n",
        "#replacing blanks in NPSTaxonCode with 0\n",
        "combined_df['NPSTaxonCode'] = combined_df['NPSTaxonCode'].replace('NaN', np.nan).fillna(0)\n",
        "\n",
        "#replacing blanks in TaxonCode with 0\n",
        "combined_df['TaxonCode'] = combined_df['TaxonCode'].replace('NaN', np.nan).fillna(0)\n",
        "\n",
        "#replacing blank in Previously_Obs with mode of the column\n",
        "combined_df['Previously_Obs'] = combined_df['Previously_Obs'].replace('', np.nan).fillna(combined_df['Previously_Obs'].mode()[0])\n",
        "\n",
        "#replacing blank in ID_Method with mode of the column\n",
        "combined_df['ID_Method'] = combined_df['ID_Method'].replace('', np.nan).fillna(combined_df['ID_Method'].mode()[0])\n",
        "\n",
        "# seasons segregation\n",
        "if 'Month' not in combined_df.columns:\n",
        "  combined_df['Month'] = combined_df['Date'].dt.month\n",
        "  def get_season(month):\n",
        "      if month in [12, 1, 2]:\n",
        "          return 'Winter'\n",
        "      elif month in [3, 4, 5]:\n",
        "          return 'Spring'\n",
        "      elif month in [6, 7, 8]:\n",
        "          return 'Summer'\n",
        "      elif month in [9, 10, 11]:\n",
        "          return 'Autumn'\n",
        "  combined_df['Season'] = combined_df['Month'].apply(get_season)"
      ],
      "metadata": {
        "id": "wk-9a2fpoLcV"
      },
      "execution_count": null,
      "outputs": []
    },
    {
      "cell_type": "code",
      "source": [
        "combined_df.isnull().sum()"
      ],
      "metadata": {
        "id": "o5EfTQjg8n1q"
      },
      "execution_count": null,
      "outputs": []
    },
    {
      "cell_type": "markdown",
      "source": [
        "### What all manipulations have you done and insights you found?"
      ],
      "metadata": {
        "id": "MSa1f5Uengrz"
      }
    },
    {
      "cell_type": "markdown",
      "source": [
        "**Data Wrangling:**\n",
        "\n",
        "Round Humidity column values to 2 decimal points.\n",
        "\n",
        "Round Temperature column values to 2 decimal points.\n",
        "\n",
        "Replacing empty values from Site_Name to Admin_Unit_Code.\n",
        "\n",
        "Replacing empty values from Sub_Unit_Code to Admin_Unit_Code.\n",
        "\n",
        "Replace all blanks from Sex column to Undetermined\n",
        "\n",
        "Replacing blanks in distance column with mode of the column\n",
        "\n",
        "Replacing blanks in AcceptedTSN with 0\n",
        "\n",
        "Replacing blanks in NPSTaxonCode with 0\n",
        "\n",
        "Replacing blanks in TaxonCode with 0\n",
        "\n",
        "Replacing blank in Previously_Obs with mode of the column\n",
        "\n",
        "Replacing blank in ID_Method with mode of the column\n",
        "\n",
        "Created a column for Seasons.\n",
        "\n",
        "**Insights:**\n",
        "\n",
        "Most critical columns now have no missing values, making the dataset analysis ready for modeling or visualization.\n",
        "\n",
        "Many bird records lacked specified sex, which suggests either identification difficulty or inconsistent data entry in the field. Labeling them as Undetermined allows inclusion in analysis without misrepresenting sex specific patterns.\n",
        "\n",
        "The entire Sub_Unit_Code column had no valid entries, indicating it may not have been captured at all or is irrelevant in this dataset.\n",
        "\n",
        "With Temperature and Humidity cleaned and rounded, we can now explore correlations between climate and bird activity."
      ],
      "metadata": {
        "id": "LbyXE7I1olp8"
      }
    },
    {
      "cell_type": "markdown",
      "source": [
        "## ***4. Data Vizualization, Storytelling & Experimenting with charts : Understand the relationships between variables***"
      ],
      "metadata": {
        "id": "GF8Ens_Soomf"
      }
    },
    {
      "cell_type": "markdown",
      "source": [
        "#### Chart - 1"
      ],
      "metadata": {
        "id": "0wOQAZs5pc--"
      }
    },
    {
      "cell_type": "code",
      "source": [
        "# Chart - 1 visualization code\n",
        "#Species Count by Habitat Type\n",
        "combined_df.groupby('Habitat')['Common_Name'].nunique().sort_values().plot(kind='bar')"
      ],
      "metadata": {
        "id": "7v_ESjsspbW7"
      },
      "execution_count": null,
      "outputs": []
    },
    {
      "cell_type": "markdown",
      "source": [
        "##### 1. Why did you pick the specific chart?"
      ],
      "metadata": {
        "id": "K5QZ13OEpz2H"
      }
    },
    {
      "cell_type": "markdown",
      "source": [
        "A bar chart is the most straightforward way to compare categorical variables like Habitat. It clearly shows the distribution of bird observations across Forest and Grassland, making it easy to see which habitat has more recorded bird activity."
      ],
      "metadata": {
        "id": "XESiWehPqBRc"
      }
    },
    {
      "cell_type": "markdown",
      "source": [
        "##### 2. What is/are the insight(s) found from the chart?"
      ],
      "metadata": {
        "id": "lQ7QKXXCp7Bj"
      }
    },
    {
      "cell_type": "markdown",
      "source": [
        "The chart reveals that Grasslands have significantly more bird observations than Forests. This suggests that either:\n",
        "\n",
        "1.   Grasslands support a higher diversity or density of bird species\n",
        "2.   Or, sampling effort (e.g., number of visits or observers) was higher in grasslands."
      ],
      "metadata": {
        "id": "C_j1G7yiqdRP"
      }
    },
    {
      "cell_type": "markdown",
      "source": [
        "##### 3. Will the gained insights help creating a positive business impact?\n",
        "Are there any insights that lead to negative growth? Justify with specific reason."
      ],
      "metadata": {
        "id": "448CDAPjqfQr"
      }
    },
    {
      "cell_type": "markdown",
      "source": [
        "Yes, this insight can support better resource allocation. Conservation planners might prioritize grasslands for protective measures or biodiversity monitoring."
      ],
      "metadata": {
        "id": "3cspy4FjqxJW"
      }
    },
    {
      "cell_type": "markdown",
      "source": [
        "#### Chart - 2"
      ],
      "metadata": {
        "id": "KSlN3yHqYklG"
      }
    },
    {
      "cell_type": "code",
      "source": [
        "# Chart - 2 visualization code\n",
        "#Top 10 Most Frequently Observed Bird Species\n",
        "combined_df['Common_Name'].value_counts().head(10).plot(kind='bar')"
      ],
      "metadata": {
        "id": "R4YgtaqtYklH"
      },
      "execution_count": null,
      "outputs": []
    },
    {
      "cell_type": "markdown",
      "source": [
        "##### 1. Why did you pick the specific chart?"
      ],
      "metadata": {
        "id": "t6dVpIINYklI"
      }
    },
    {
      "cell_type": "markdown",
      "source": [
        "A bar chart is ideal here because it clearly visualizes and compares the frequency of observations across bird species. It allows us to immediately spot which species are most and least commonly observed, which is central for ecological and conservation insights."
      ],
      "metadata": {
        "id": "5aaW0BYyYklI"
      }
    },
    {
      "cell_type": "markdown",
      "source": [
        "##### 2. What is/are the insight(s) found from the chart?"
      ],
      "metadata": {
        "id": "ijmpgYnKYklI"
      }
    },
    {
      "cell_type": "markdown",
      "source": [
        "\n",
        "1.   Field Sparrow and Northern Cardinal are the most frequently observed species in the dataset, both crossing 300 sightings.\n",
        "2.   Indigo Bunting, Chipping Sparrow, and Grasshopper Sparrow also have high counts, indicating their strong presence in the monitored habitats.\n",
        "\n"
      ],
      "metadata": {
        "id": "PSx9atu2YklI"
      }
    },
    {
      "cell_type": "markdown",
      "source": [
        "##### 3. Will the gained insights help creating a positive business impact?\n",
        "Are there any insights that lead to negative growth? Justify with specific reason."
      ],
      "metadata": {
        "id": "-JiQyfWJYklI"
      }
    },
    {
      "cell_type": "markdown",
      "source": [
        "\n",
        "\n",
        "\n",
        "1.   Popular species like Northern Cardinal and Field Sparrow can be used in promotional materials or bird-watching events to attract enthusiasts.\n",
        "2.   If stakeholders focus only on frequently observed species, rarer or declining species may be ignored in conservation or funding decisions.\n",
        "\n"
      ],
      "metadata": {
        "id": "BcBbebzrYklV"
      }
    },
    {
      "cell_type": "markdown",
      "source": [
        "#### Chart - 3"
      ],
      "metadata": {
        "id": "EM7whBJCYoAo"
      }
    },
    {
      "cell_type": "code",
      "source": [
        "# Chart - 3 visualization code\n",
        "#Sex Distribution in Forest vs Grassland\n",
        "sex_df = combined_df[combined_df['Sex'].notna()]\n",
        "\n",
        "plt.figure(figsize=(8, 6))\n",
        "sns.countplot(data=sex_df, x='Sex', hue='Habitat')\n",
        "plt.title('Sex Distribution in Forest vs Grassland')\n",
        "plt.xlabel('Sex')\n",
        "plt.ylabel('Count')\n",
        "plt.tight_layout()\n",
        "plt.show()"
      ],
      "metadata": {
        "id": "t6GMdE67YoAp"
      },
      "execution_count": null,
      "outputs": []
    },
    {
      "cell_type": "markdown",
      "source": [
        "##### 1. Why did you pick the specific chart?"
      ],
      "metadata": {
        "id": "fge-S5ZAYoAp"
      }
    },
    {
      "cell_type": "markdown",
      "source": [
        "A grouped bar chart is the right choice to show categorical distribution here, bird sex across two different habitats. It makes it easy to compare how counts vary by sex in forest vs. grassland settings, side by side."
      ],
      "metadata": {
        "id": "5dBItgRVYoAp"
      }
    },
    {
      "cell_type": "markdown",
      "source": [
        "##### 2. What is/are the insight(s) found from the chart?"
      ],
      "metadata": {
        "id": "85gYPyotYoAp"
      }
    },
    {
      "cell_type": "markdown",
      "source": [
        "\n",
        "\n",
        "1.   A very large number of birds are marked as “Undetermined” and this is especially in the grasslands.\n",
        "2.   Male birds are far more observed than females, particularly in grasslands\n",
        "\n"
      ],
      "metadata": {
        "id": "4jstXR6OYoAp"
      }
    },
    {
      "cell_type": "markdown",
      "source": [
        "##### 3. Will the gained insights help creating a positive business impact?\n",
        "Are there any insights that lead to negative growth? Justify with specific reason."
      ],
      "metadata": {
        "id": "RoGjAbkUYoAp"
      }
    },
    {
      "cell_type": "markdown",
      "source": [
        "\n",
        "\n",
        "1.   The male-dominated observation trend might suggest seasonal behavior\n",
        "2.   Poor sex ratio data might reduce the credibility of reports or findings\n",
        "\n"
      ],
      "metadata": {
        "id": "zfJ8IqMcYoAp"
      }
    },
    {
      "cell_type": "markdown",
      "source": [
        "#### Chart - 4"
      ],
      "metadata": {
        "id": "4Of9eVA-YrdM"
      }
    },
    {
      "cell_type": "code",
      "source": [
        "# Chart - 4 visualization code\n",
        "# Observer Count by Habitat\n",
        "observer_counts = combined_df.groupby(['Habitat', 'Observer']).size().reset_index(name='Count')\n",
        "\n",
        "# Plot\n",
        "plt.figure(figsize=(12, 6))\n",
        "sns.barplot(data=observer_counts, x='Observer', y='Count', hue='Habitat')\n",
        "plt.title('Observer Count by Habitat')\n",
        "plt.xticks(rotation=45, ha='right')\n",
        "plt.tight_layout()\n",
        "plt.show()"
      ],
      "metadata": {
        "id": "irlUoxc8YrdO"
      },
      "execution_count": null,
      "outputs": []
    },
    {
      "cell_type": "markdown",
      "source": [
        "##### 1. Why did you pick the specific chart?"
      ],
      "metadata": {
        "id": "iky9q4vBYrdO"
      }
    },
    {
      "cell_type": "markdown",
      "source": [
        "A grouped bar chart is ideal here because I am comparing counts across two categories (Forest and Grassland) for each observer."
      ],
      "metadata": {
        "id": "aJRCwT6DYrdO"
      }
    },
    {
      "cell_type": "markdown",
      "source": [
        "##### 2. What is/are the insight(s) found from the chart?"
      ],
      "metadata": {
        "id": "F6T5p64dYrdO"
      }
    },
    {
      "cell_type": "markdown",
      "source": [
        "\n",
        "\n",
        "1.   All three observers (Brian Swimmear, Elizabeth Oswald, Kimberly Semo) have far more observations in Grassland than in Forest.\n",
        "2.   Elizabeth Oswald has the highest overall count.\n",
        "\n"
      ],
      "metadata": {
        "id": "Xx8WAJvtYrdO"
      }
    },
    {
      "cell_type": "markdown",
      "source": [
        "##### 3. Will the gained insights help creating a positive business impact?\n",
        "Are there any insights that lead to negative growth? Justify with specific reason."
      ],
      "metadata": {
        "id": "y-Ehk30pYrdP"
      }
    },
    {
      "cell_type": "markdown",
      "source": [
        "Low forest data can impact the biodiversity analysis."
      ],
      "metadata": {
        "id": "jLNxxz7MYrdP"
      }
    },
    {
      "cell_type": "markdown",
      "source": [
        "#### Chart - 5"
      ],
      "metadata": {
        "id": "bamQiAODYuh1"
      }
    },
    {
      "cell_type": "code",
      "source": [
        "# Chart - 5 visualization code\n",
        "def prepare_plot_data(df, habitat_name):\n",
        "    counts = (df.groupby(['Observer', 'Interval_Length']).size().reset_index(name='Count'))\n",
        "    pivot = counts.pivot(index='Observer', columns='Interval_Length', values='Count')\n",
        "    return pivot\n",
        "\n",
        "forest_plot_data = prepare_plot_data(combined_df, 'Forest')\n",
        "grassland_plot_data = prepare_plot_data(combined_df, 'Grassland')\n",
        "\n",
        "\n",
        "fig, axes = plt.subplots(1, 2, figsize=(16, 6), sharey=True)\n",
        "forest_plot_data.plot(kind='bar', ax=axes[0], title='Forest: Observer vs Interval Length')\n",
        "grassland_plot_data.plot(kind='bar', ax=axes[1], title='Grassland: Observer vs Interval Length')\n",
        "\n",
        "for ax in axes:\n",
        "    ax.set_ylabel('Count')\n",
        "    ax.set_xlabel('Observer')\n",
        "\n",
        "plt.tight_layout()\n",
        "plt.show()"
      ],
      "metadata": {
        "id": "TIJwrbroYuh3"
      },
      "execution_count": null,
      "outputs": []
    },
    {
      "cell_type": "markdown",
      "source": [
        "##### 1. Why did you pick the specific chart?"
      ],
      "metadata": {
        "id": "QHF8YVU7Yuh3"
      }
    },
    {
      "cell_type": "markdown",
      "source": [
        "I used side-by-side grouped bar chart because it allows direct visual comparison of how each observer contributed across four time intervals within both habitats."
      ],
      "metadata": {
        "id": "dcxuIMRPYuh3"
      }
    },
    {
      "cell_type": "markdown",
      "source": [
        "##### 2. What is/are the insight(s) found from the chart?"
      ],
      "metadata": {
        "id": "GwzvFGzlYuh3"
      }
    },
    {
      "cell_type": "markdown",
      "source": [
        "\n",
        "\n",
        "1.   Short intervals (0–2.5 min) dominate across all observers and habitats\n",
        "2.   Elizabeth Oswald is the most active overall, particularly in grassland habitat\n",
        "3. Longer intervals (7.5–10 min) have the fewest observations\n",
        "\n"
      ],
      "metadata": {
        "id": "uyqkiB8YYuh3"
      }
    },
    {
      "cell_type": "markdown",
      "source": [
        "##### 3. Will the gained insights help creating a positive business impact?\n",
        "Are there any insights that lead to negative growth? Justify with specific reason."
      ],
      "metadata": {
        "id": "qYpmQ266Yuh3"
      }
    },
    {
      "cell_type": "markdown",
      "source": [
        "1. Shorter intervals are preferred could guide and improve observer efficiency.\n",
        "2. Over-reliance on short intervals may limit data quality. Also reason for more Undetermined Sex."
      ],
      "metadata": {
        "id": "_WtzZ_hCYuh4"
      }
    },
    {
      "cell_type": "markdown",
      "source": [
        "#### Chart - 6"
      ],
      "metadata": {
        "id": "OH-pJp9IphqM"
      }
    },
    {
      "cell_type": "code",
      "source": [
        "# Chart - 6 visualization code\n",
        "# Observer vs ID method chart\n",
        "def prep_idmethod_data(df):\n",
        "    counts = (df.groupby(['Observer', 'ID_Method']).size().reset_index(name='Count') )\n",
        "    pivot = counts.pivot(index='Observer', columns='ID_Method', values='Count')\n",
        "    return pivot\n",
        "\n",
        "forest_data = prep_idmethod_data(forest_df)\n",
        "grassland_data = prep_idmethod_data(grassland_df)\n",
        "\n",
        "fig, axes = plt.subplots(1, 2, figsize=(16, 6), sharey=True)\n",
        "forest_data.plot(kind='bar', ax=axes[0], title='Forest: Observer vs ID Method')\n",
        "grassland_data.plot(kind='bar', ax=axes[1], title='Grassland: Observer vs ID Method')\n",
        "\n",
        "for ax in axes:\n",
        "    ax.set_ylabel('Count')\n",
        "    ax.set_xlabel('Observer')\n",
        "\n",
        "plt.tight_layout()\n",
        "plt.show()"
      ],
      "metadata": {
        "id": "kuRf4wtuphqN"
      },
      "execution_count": null,
      "outputs": []
    },
    {
      "cell_type": "markdown",
      "source": [
        "##### 1. Why did you pick the specific chart?"
      ],
      "metadata": {
        "id": "bbFf2-_FphqN"
      }
    },
    {
      "cell_type": "markdown",
      "source": [
        "A grouped bar chart split by habitat is used here because it lets us compare how each observer uses different ID methods (Calling, Singing, Visualization) in two distinct habitats."
      ],
      "metadata": {
        "id": "loh7H2nzphqN"
      }
    },
    {
      "cell_type": "markdown",
      "source": [
        "##### 2. What is/are the insight(s) found from the chart?"
      ],
      "metadata": {
        "id": "_ouA3fa0phqN"
      }
    },
    {
      "cell_type": "markdown",
      "source": [
        "1. Singing is the most commonly used identification method by all observers.\n",
        "2. Kimberly Semo is the most active observer overall"
      ],
      "metadata": {
        "id": "VECbqPI7phqN"
      }
    },
    {
      "cell_type": "markdown",
      "source": [
        "##### 3. Will the gained insights help creating a positive business impact?\n",
        "Are there any insights that lead to negative growth? Justify with specific reason."
      ],
      "metadata": {
        "id": "Seke61FWphqN"
      }
    },
    {
      "cell_type": "markdown",
      "source": [
        "1. Recognizing singing as the dominant ID method helps optimize surveys.\n",
        "2. Researchers using this data might make flawed decisions because of forest data."
      ],
      "metadata": {
        "id": "DW4_bGpfphqN"
      }
    },
    {
      "cell_type": "markdown",
      "source": [
        "#### Chart - 7"
      ],
      "metadata": {
        "id": "PIIx-8_IphqN"
      }
    },
    {
      "cell_type": "code",
      "source": [
        "# Chart - 7 visualization code\n",
        "# Top 10 Birds observed under Each Sky Condition\n",
        "grouped = combined_df.groupby(['Sky', 'Common_Name']).size().reset_index(name='Count')\n",
        "\n",
        "# For each Sky condition, get top 10 Common_Name\n",
        "top10_per_sky = (grouped.sort_values(['Sky', 'Count'], ascending=[True, False]).groupby('Sky').head(10))\n",
        "g = top10_per_sky.pivot(index='Common_Name', columns='Sky', values='Count').fillna(0)\n",
        "\n",
        "g.plot(kind='bar', figsize=(14, 6), title='Top 10 Birds observed under Each Sky Condition')\n",
        "plt.ylabel('Count')\n",
        "plt.xlabel('Common Name')\n",
        "plt.xticks(rotation=45, ha='right')\n",
        "plt.tight_layout()\n",
        "plt.show()"
      ],
      "metadata": {
        "id": "lqAIGUfyphqO"
      },
      "execution_count": null,
      "outputs": []
    },
    {
      "cell_type": "markdown",
      "source": [
        "##### 1. Why did you pick the specific chart?"
      ],
      "metadata": {
        "id": "t27r6nlMphqO"
      }
    },
    {
      "cell_type": "markdown",
      "source": [
        "I used grouped bar chart because it visually highlights patterns and trends in bird behavior based on weather."
      ],
      "metadata": {
        "id": "iv6ro40sphqO"
      }
    },
    {
      "cell_type": "markdown",
      "source": [
        "##### 2. What is/are the insight(s) found from the chart?"
      ],
      "metadata": {
        "id": "r2jJGEOYphqO"
      }
    },
    {
      "cell_type": "markdown",
      "source": [
        "1. Most birds are observed more frequently under Clear or Partly Cloudy conditions.\n",
        "\n",
        "2. Certain species like American Crow and Common Grackle show a preference for Cloudy or Misty skies."
      ],
      "metadata": {
        "id": "Po6ZPi4hphqO"
      }
    },
    {
      "cell_type": "markdown",
      "source": [
        "##### 3. Will the gained insights help creating a positive business impact?\n",
        "Are there any insights that lead to negative growth? Justify with specific reason."
      ],
      "metadata": {
        "id": "b0JNsNcRphqO"
      }
    },
    {
      "cell_type": "markdown",
      "source": [
        "1. Birdwatching tours can schedule activities during favorable weather to maximize sightings.\n",
        "\n",
        "2. tours scheduled during misty or overcast conditions can lead to few sighitngs only."
      ],
      "metadata": {
        "id": "xvSq8iUTphqO"
      }
    },
    {
      "cell_type": "markdown",
      "source": [
        "#### Chart - 8"
      ],
      "metadata": {
        "id": "BZR9WyysphqO"
      }
    },
    {
      "cell_type": "code",
      "source": [
        "# Chart - 8 visualization code\n",
        "# Sky condition vs Avg Temperature and Avg Humidity\n",
        "grouped = combined_df.groupby(['Habitat', 'Sky'])[['Temperature', 'Humidity']].mean().reset_index()\n",
        "\n",
        "# Pivot data for plotting\n",
        "temp_pivot = grouped.pivot(index='Sky', columns='Habitat', values='Temperature')\n",
        "humid_pivot = grouped.pivot(index='Sky', columns='Habitat', values='Humidity')\n",
        "\n",
        "# Create side-by-side bar charts\n",
        "fig, axes = plt.subplots(1, 2, figsize=(14, 6))\n",
        "\n",
        "# Temperature Chart\n",
        "temp_pivot.plot(kind='bar', ax=axes[0])\n",
        "axes[0].set_title('Sky Condition vs Avg Temperature')\n",
        "axes[0].set_ylabel('Temperature (°C)')\n",
        "axes[0].set_xlabel('Sky Condition')\n",
        "axes[0].tick_params(axis='x', rotation=45)\n",
        "axes[0].legend(title='Habitat')\n",
        "\n",
        "# Humidity Chart\n",
        "humid_pivot.plot(kind='bar', ax=axes[1])\n",
        "axes[1].set_title('Sky Condition vs Avg Humidity')\n",
        "axes[1].set_ylabel('Humidity (%)')\n",
        "axes[1].set_xlabel('Sky Condition')\n",
        "axes[1].tick_params(axis='x', rotation=45)\n",
        "axes[1].legend(title='Habitat')\n",
        "\n",
        "plt.tight_layout()\n",
        "plt.show()"
      ],
      "metadata": {
        "id": "TdPTWpAVphqO"
      },
      "execution_count": null,
      "outputs": []
    },
    {
      "cell_type": "markdown",
      "source": [
        "##### 1. Why did you pick the specific chart?"
      ],
      "metadata": {
        "id": "jj7wYXLtphqO"
      }
    },
    {
      "cell_type": "markdown",
      "source": [
        "This chart clearly compares how temperature and humidity vary under different sky conditions for two habitats (Forest and Grassland)."
      ],
      "metadata": {
        "id": "Ob8u6rCTphqO"
      }
    },
    {
      "cell_type": "markdown",
      "source": [
        "##### 2. What is/are the insight(s) found from the chart?"
      ],
      "metadata": {
        "id": "eZrbJ2SmphqO"
      }
    },
    {
      "cell_type": "markdown",
      "source": [
        "1. Grasslands are generally warmer than forests across all sky conditions.\n",
        "2. Forests have higher humidity compared to grasslands."
      ],
      "metadata": {
        "id": "mZtgC_hjphqO"
      }
    },
    {
      "cell_type": "markdown",
      "source": [
        "##### 3. Will the gained insights help creating a positive business impact?\n",
        "Are there any insights that lead to negative growth? Justify with specific reason."
      ],
      "metadata": {
        "id": "rFu4xreNphqO"
      }
    },
    {
      "cell_type": "markdown",
      "source": [
        "Its advised to not plan any bird watching sightings during high te perature and humidity days."
      ],
      "metadata": {
        "id": "ey_0qi68phqO"
      }
    },
    {
      "cell_type": "markdown",
      "source": [
        "#### Chart - 9"
      ],
      "metadata": {
        "id": "YJ55k-q6phqO"
      }
    },
    {
      "cell_type": "code",
      "source": [
        "# Chart - 9 visualization code\n",
        "# Avg Temperature and Humidity by Wind Condition\n",
        "grouped_wind = combined_df.groupby(['Wind', 'Habitat'])[['Temperature', 'Humidity']].mean().reset_index()\n",
        "\n",
        "\n",
        "fig, axes = plt.subplots(1, 2, figsize=(14, 7))\n",
        "\n",
        "# Temperature\n",
        "grouped_wind.pivot(index='Wind', columns='Habitat', values='Temperature').plot(kind='bar', ax=axes[0])\n",
        "axes[0].set_title('Avg Temperature by Wind Condition')\n",
        "axes[0].set_ylabel('Temperature (°C)')\n",
        "axes[0].set_xlabel('Wind')\n",
        "axes[0].tick_params(axis='x', rotation=45)\n",
        "\n",
        "# Humidity\n",
        "grouped_wind.pivot(index='Wind', columns='Habitat', values='Humidity').plot(kind='bar', ax=axes[1])\n",
        "axes[1].set_title('Avg Humidity by Wind Condition')\n",
        "axes[1].set_ylabel('Humidity (%)')\n",
        "axes[1].set_xlabel('Wind')\n",
        "axes[1].tick_params(axis='x', rotation=45)\n",
        "\n",
        "plt.tight_layout()\n",
        "plt.show()"
      ],
      "metadata": {
        "id": "B2aS4O1ophqO"
      },
      "execution_count": null,
      "outputs": []
    },
    {
      "cell_type": "markdown",
      "source": [
        "##### 1. Why did you pick the specific chart?"
      ],
      "metadata": {
        "id": "gCFgpxoyphqP"
      }
    },
    {
      "cell_type": "markdown",
      "source": [
        "This chart compares temperature and humidity under different wind conditions for Forest and Grassland habitats."
      ],
      "metadata": {
        "id": "TVxDimi2phqP"
      }
    },
    {
      "cell_type": "markdown",
      "source": [
        "##### 2. What is/are the insight(s) found from the chart?"
      ],
      "metadata": {
        "id": "OVtJsKN_phqQ"
      }
    },
    {
      "cell_type": "markdown",
      "source": [
        "1. Grasslands consistently show higher temperatures than forests during gentle breeze conditions.\n",
        "\n",
        "2. Forests maintain higher humidity levels during light breeze (4-7 mph) conditions."
      ],
      "metadata": {
        "id": "ngGi97qjphqQ"
      }
    },
    {
      "cell_type": "markdown",
      "source": [
        "##### 3. Will the gained insights help creating a positive business impact?\n",
        "Are there any insights that lead to negative growth? Justify with specific reason."
      ],
      "metadata": {
        "id": "lssrdh5qphqQ"
      }
    },
    {
      "cell_type": "markdown",
      "source": [
        "Events can be scheduled based on comfortable wind, temperature, and humidity conditions."
      ],
      "metadata": {
        "id": "tBpY5ekJphqQ"
      }
    },
    {
      "cell_type": "markdown",
      "source": [
        "#### Chart - 10"
      ],
      "metadata": {
        "id": "U2RJ9gkRphqQ"
      }
    },
    {
      "cell_type": "code",
      "source": [
        "# Chart - 10 visualization code\n",
        "# Disturbance Observation Counts by Habitat\n",
        "pivot_dist = (combined_df.groupby(['Disturbance', 'Habitat']).size().unstack())\n",
        "\n",
        "pivot_dist.plot(kind='bar', figsize=(10, 6))\n",
        "plt.title('Disturbance Observation Counts by Habitat')\n",
        "plt.ylabel('Count')\n",
        "plt.xticks(rotation=45)\n",
        "plt.tight_layout()\n",
        "plt.show()"
      ],
      "metadata": {
        "id": "GM7a4YP4phqQ"
      },
      "execution_count": null,
      "outputs": []
    },
    {
      "cell_type": "markdown",
      "source": [
        "##### 1. Why did you pick the specific chart?"
      ],
      "metadata": {
        "id": "1M8mcRywphqQ"
      }
    },
    {
      "cell_type": "markdown",
      "source": [
        "This bar chart shows the impact of different disturbance levels on bird observation counts across two habitats.\n",
        "\n"
      ],
      "metadata": {
        "id": "8agQvks0phqQ"
      }
    },
    {
      "cell_type": "markdown",
      "source": [
        "##### 2. What is/are the insight(s) found from the chart?"
      ],
      "metadata": {
        "id": "tgIPom80phqQ"
      }
    },
    {
      "cell_type": "markdown",
      "source": [
        "1. Most observations in grasslands occur under \"No effect\" and \"Slight effect\" disturbances.\n",
        "\n",
        "2. Forests show fewer total observations and more sensitivity even under slight or moderate disturbances."
      ],
      "metadata": {
        "id": "Qp13pnNzphqQ"
      }
    },
    {
      "cell_type": "markdown",
      "source": [
        "##### 3. Will the gained insights help creating a positive business impact?\n",
        "Are there any insights that lead to negative growth? Justify with specific reason."
      ],
      "metadata": {
        "id": "JMzcOPDDphqR"
      }
    },
    {
      "cell_type": "markdown",
      "source": [
        "Based on the insights grasslands appear more disturbance tolerant."
      ],
      "metadata": {
        "id": "R4Ka1PC2phqR"
      }
    },
    {
      "cell_type": "markdown",
      "source": [
        "#### Chart - 11"
      ],
      "metadata": {
        "id": "x-EpHcCOp1ci"
      }
    },
    {
      "cell_type": "code",
      "source": [
        "# Chart - 11 visualization code\n",
        "#Seasonal Species Richness by Habitat\n",
        "richness = (combined_df.groupby(['Season', 'Habitat'])['Common_Name'].nunique().reset_index(name='Species_Richness'))\n",
        "\n",
        "plt.figure(figsize=(10, 6))\n",
        "sns.barplot(data=richness, x='Season', y='Species_Richness', hue='Habitat')\n",
        "plt.title('Seasonal Species Richness by Habitat')\n",
        "plt.ylabel('Unique Species Count')\n",
        "plt.tight_layout()\n",
        "plt.show()"
      ],
      "metadata": {
        "id": "mAQTIvtqp1cj"
      },
      "execution_count": null,
      "outputs": []
    },
    {
      "cell_type": "markdown",
      "source": [
        "##### 1. Why did you pick the specific chart?"
      ],
      "metadata": {
        "id": "X_VqEhTip1ck"
      }
    },
    {
      "cell_type": "markdown",
      "source": [
        "This bar chart compares species richness across habitats (Forest vs. Grassland) and seasons (Spring vs. Summer)."
      ],
      "metadata": {
        "id": "-vsMzt_np1ck"
      }
    },
    {
      "cell_type": "markdown",
      "source": [
        "##### 2. What is/are the insight(s) found from the chart?"
      ],
      "metadata": {
        "id": "8zGJKyg5p1ck"
      }
    },
    {
      "cell_type": "markdown",
      "source": [
        "1. Grasslands have higher species richness than forests in both spring and summer.\n",
        "\n",
        "2. Species richness in forests remains constant and grasslands show a noticeable increase in summer."
      ],
      "metadata": {
        "id": "ZYdMsrqVp1ck"
      }
    },
    {
      "cell_type": "markdown",
      "source": [
        "##### 3. Will the gained insights help creating a positive business impact?\n",
        "Are there any insights that lead to negative growth? Justify with specific reason."
      ],
      "metadata": {
        "id": "PVzmfK_Ep1ck"
      }
    },
    {
      "cell_type": "markdown",
      "source": [
        "Businesses can promote grassland visits during summer and  attracting more tourists."
      ],
      "metadata": {
        "id": "druuKYZpp1ck"
      }
    },
    {
      "cell_type": "markdown",
      "source": [
        "#### Chart - 12"
      ],
      "metadata": {
        "id": "n3dbpmDWp1ck"
      }
    },
    {
      "cell_type": "code",
      "source": [
        "# Chart - 12 visualization code\n",
        "humidity_counts = combined_df.groupby('Humidity')['Common_Name'].count().reset_index()\n",
        "humidity_counts.columns = ['Humidity', 'Bird_Count']\n",
        "\n",
        "# Plot\n",
        "plt.figure(figsize=(10, 6))\n",
        "sns.lineplot(data=humidity_counts, x='Humidity', y='Bird_Count', marker='o')\n",
        "plt.title('Humidity vs Bird Count')\n",
        "plt.xlabel('Humidity (%)')\n",
        "plt.ylabel('Number of Bird Observations')\n",
        "plt.tight_layout()\n",
        "plt.show()"
      ],
      "metadata": {
        "id": "bwevp1tKp1ck"
      },
      "execution_count": null,
      "outputs": []
    },
    {
      "cell_type": "markdown",
      "source": [
        "##### 1. Why did you pick the specific chart?"
      ],
      "metadata": {
        "id": "ylSl6qgtp1ck"
      }
    },
    {
      "cell_type": "markdown",
      "source": [
        "This line chart shows the relationship between humidity and bird activity."
      ],
      "metadata": {
        "id": "m2xqNkiQp1ck"
      }
    },
    {
      "cell_type": "markdown",
      "source": [
        "##### 2. What is/are the insight(s) found from the chart?"
      ],
      "metadata": {
        "id": "ZWILFDl5p1ck"
      }
    },
    {
      "cell_type": "markdown",
      "source": [
        "1. Bird observations generally increase with humidity up to around 70% with a sharp spike.\n",
        "\n",
        "2. After 70%, the number of bird observations fluctuates but gradually declines as humidity rises beyond 80%."
      ],
      "metadata": {
        "id": "x-lUsV2mp1ck"
      }
    },
    {
      "cell_type": "markdown",
      "source": [
        "##### 3. Will the gained insights help creating a positive business impact?\n",
        "Are there any insights that lead to negative growth? Justify with specific reason."
      ],
      "metadata": {
        "id": "M7G43BXep1ck"
      }
    },
    {
      "cell_type": "markdown",
      "source": [
        "Birdwatching comapnies can target moderate humidity days (around 65 to 75%)."
      ],
      "metadata": {
        "id": "5wwDJXsLp1cl"
      }
    },
    {
      "cell_type": "markdown",
      "source": [
        "#### Chart - 13"
      ],
      "metadata": {
        "id": "Ag9LCva-p1cl"
      }
    },
    {
      "cell_type": "code",
      "source": [
        "# Chart - 13 visualization code\n",
        "temperature_counts = combined_df.groupby('Temperature')['Common_Name'].count().reset_index()\n",
        "temperature_counts.columns = ['Temperature', 'Bird_Count']\n",
        "\n",
        "# Plot\n",
        "plt.figure(figsize=(10, 6))\n",
        "sns.lineplot(data=temperature_counts, x='Temperature', y='Bird_Count', marker='o')\n",
        "plt.title('Temperature vs Bird Count')\n",
        "plt.xlabel('Temperature (°C)')\n",
        "plt.ylabel('Number of Bird Observations')\n",
        "plt.tight_layout()\n",
        "plt.show()"
      ],
      "metadata": {
        "id": "EUfxeq9-p1cl"
      },
      "execution_count": null,
      "outputs": []
    },
    {
      "cell_type": "markdown",
      "source": [
        "##### 1. Why did you pick the specific chart?"
      ],
      "metadata": {
        "id": "E6MkPsBcp1cl"
      }
    },
    {
      "cell_type": "markdown",
      "source": [
        "This line chart shows the impact of temperature on bird activity."
      ],
      "metadata": {
        "id": "V22bRsFWp1cl"
      }
    },
    {
      "cell_type": "markdown",
      "source": [
        "##### 2. What is/are the insight(s) found from the chart?"
      ],
      "metadata": {
        "id": "2cELzS2fp1cl"
      }
    },
    {
      "cell_type": "markdown",
      "source": [
        "1. Bird observations peak sharply around 24–25 degrees.\n",
        "\n",
        "2. Above 28 and below 18, bird count drops significantly because of extreme temperatures."
      ],
      "metadata": {
        "id": "ozQPc2_Ip1cl"
      }
    },
    {
      "cell_type": "markdown",
      "source": [
        "##### 3. Will the gained insights help creating a positive business impact?\n",
        "Are there any insights that lead to negative growth? Justify with specific reason."
      ],
      "metadata": {
        "id": "3MPXvC8up1cl"
      }
    },
    {
      "cell_type": "markdown",
      "source": [
        "Birdwatching companies can plann events around 24–25 degrees for maximum profits."
      ],
      "metadata": {
        "id": "GL8l1tdLp1cl"
      }
    },
    {
      "cell_type": "markdown",
      "source": [
        "#### Chart - 14 - Correlation Heatmap"
      ],
      "metadata": {
        "id": "NC_X3p0fY2L0"
      }
    },
    {
      "cell_type": "code",
      "source": [
        "# Correlation Heatmap visualization code\n",
        "numeric_df = combined_df.select_dtypes(include=['int64', 'float64'])\n",
        "numeric_df = numeric_df.drop(columns=['Sub_Unit_Code', 'Year'], errors='ignore')\n",
        "# Compute correlation matrix\n",
        "corr_matrix = numeric_df.corr()\n",
        "\n",
        "# Plot heatmap\n",
        "plt.figure(figsize=(12, 8))\n",
        "sns.heatmap(corr_matrix, annot=True, fmt=\".2f\", cmap='coolwarm', square=True, linewidths=0.5)\n",
        "plt.title('Correlation Heatmap of Numeric Columns')\n",
        "plt.tight_layout()\n",
        "plt.show()"
      ],
      "metadata": {
        "id": "xyC9zolEZNRQ"
      },
      "execution_count": null,
      "outputs": []
    },
    {
      "cell_type": "markdown",
      "source": [
        "##### 1. Why did you pick the specific chart?"
      ],
      "metadata": {
        "id": "UV0SzAkaZNRQ"
      }
    },
    {
      "cell_type": "markdown",
      "source": [
        "A heatmap gives a quick visual representation of how strongly variables relate to each other."
      ],
      "metadata": {
        "id": "DVPuT8LYZNRQ"
      }
    },
    {
      "cell_type": "markdown",
      "source": [
        "##### 2. What is/are the insight(s) found from the chart?"
      ],
      "metadata": {
        "id": "YPEH6qLeZNRQ"
      }
    },
    {
      "cell_type": "markdown",
      "source": [
        "1. Temperature and Humidity show a strong negative correlation (-0.72)\n",
        "2. Visit has a mild positive correlation with Humidity (0.21) and Temperature (0.14)"
      ],
      "metadata": {
        "id": "bfSqtnDqZNRR"
      }
    },
    {
      "cell_type": "markdown",
      "source": [
        "#### Chart - 15 - Pair Plot"
      ],
      "metadata": {
        "id": "q29F0dvdveiT"
      }
    },
    {
      "cell_type": "code",
      "source": [
        "# Pair Plot visualization code\n",
        "sns.pairplot(numeric_df)\n",
        "plt.show()"
      ],
      "metadata": {
        "id": "o58-TEIhveiU"
      },
      "execution_count": null,
      "outputs": []
    },
    {
      "cell_type": "markdown",
      "source": [
        "##### 1. Why did you pick the specific chart?"
      ],
      "metadata": {
        "id": "EXh0U9oCveiU"
      }
    },
    {
      "cell_type": "markdown",
      "source": [
        "A pair plot is used to see relationships and distribution patterns between multiple numeric variables. It helps detect outliers, trends, and clusters across variable pairs that a heatmap alone may not reveal."
      ],
      "metadata": {
        "id": "eMmPjTByveiU"
      }
    },
    {
      "cell_type": "markdown",
      "source": [
        "##### 2. What is/are the insight(s) found from the chart?"
      ],
      "metadata": {
        "id": "22aHeOlLveiV"
      }
    },
    {
      "cell_type": "markdown",
      "source": [
        "1. There is a clear negative trend between Temperature and Humidity, confirming the inverse relationship.\n",
        "\n",
        "2. Most other variable pairs show no strong visual correlation."
      ],
      "metadata": {
        "id": "uPQ8RGwHveiV"
      }
    },
    {
      "cell_type": "markdown",
      "source": [
        "## **5. Solution to Business Objective**"
      ],
      "metadata": {
        "id": "JcMwzZxoAimU"
      }
    },
    {
      "cell_type": "markdown",
      "source": [
        "#### What do you suggest the client to achieve Business Objective ?\n",
        "Explain Briefly."
      ],
      "metadata": {
        "id": "8G2x9gOozGDZ"
      }
    },
    {
      "cell_type": "markdown",
      "source": [
        "1.\tUse habitat-specific monitoring methods like listening ID in forests and visual ID in grasslands.\n",
        "\n",
        "2.\tStandardize survey times and interval lengths based on peak bird activity periods.\n",
        "\n",
        "3.\tProvide consistent training to observers to improve data accuracy.\n",
        "\n",
        "4.\tConduct surveys across all seasons to capture migration and seasonal diversity shifts.\n",
        "\n",
        "5.\tUse environmental variables (temperature, humidity, etc.) to predict bird presence and plan surveys better."
      ],
      "metadata": {
        "id": "pASKb0qOza21"
      }
    },
    {
      "cell_type": "markdown",
      "source": [
        "# **Conclusion**"
      ],
      "metadata": {
        "id": "gCX9965dhzqZ"
      }
    },
    {
      "cell_type": "markdown",
      "source": [
        "This project helped me uncover key patterns in bird detection methods and observer performance across forest and grassland habitats. I realized that environmental factors and observation techniques significantly influence bird count data. Shorter intervals and acoustic methods proved especially effective in grasslands, while forests posed visibility challenges. These insights reinforced the importance of tailoring survey strategies to habitat types. Overall, this analysis deepened my understanding of bird monitoring practices and highlighted actionable steps to improve biodiversity assessments."
      ],
      "metadata": {
        "id": "Fjb1IsQkh3yE"
      }
    },
    {
      "cell_type": "markdown",
      "source": [
        "### ***Hurrah! You have successfully completed your EDA Capstone Project !!!***"
      ],
      "metadata": {
        "id": "gIfDvo9L0UH2"
      }
    }
  ]
}